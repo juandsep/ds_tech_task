{
 "cells": [
  {
   "cell_type": "markdown",
   "id": "f49fb6ca",
   "metadata": {},
   "source": [
    "# Exploratory Data Analysis - Food Delivery Times\n",
    "\n",
    "This notebook explores the food delivery dataset to understand patterns, outliers, and relationships that will inform our modeling approach."
   ]
  },
  {
   "cell_type": "code",
   "execution_count": null,
   "id": "886ec231",
   "metadata": {},
   "outputs": [],
   "source": [
    "import pandas as pd\n",
    "import numpy as np\n",
    "import matplotlib.pyplot as plt\n",
    "import seaborn as sns\n",
    "import plotly.express as px\n",
    "import plotly.graph_objects as go\n",
    "from plotly.subplots import make_subplots\n",
    "import warnings\n",
    "warnings.filterwarnings('ignore')\n",
    "\n",
    "# Set style\n",
    "plt.style.use('seaborn-v0_8')\n",
    "sns.set_palette(\"husl\")"
   ]
  },
  {
   "cell_type": "markdown",
   "id": "dae1c51b",
   "metadata": {},
   "source": [
    "## 1. Data Loading and Overview"
   ]
  },
  {
   "cell_type": "code",
   "execution_count": null,
   "id": "1539d308",
   "metadata": {},
   "outputs": [],
   "source": [
    "# Load the dataset\n",
    "df = pd.read_csv('../data/Food_Delivery_Times.csv')\n",
    "\n",
    "print(\"Dataset Shape:\", df.shape)\n",
    "print(\"\\nColumn Names:\")\n",
    "print(df.columns.tolist())\n",
    "print(\"\\nFirst few rows:\")\n",
    "df.head()"
   ]
  },
  {
   "cell_type": "code",
   "execution_count": null,
   "id": "855c9350",
   "metadata": {},
   "outputs": [],
   "source": [
    "# Basic info about the dataset\n",
    "print(\"Data Types:\")\n",
    "print(df.dtypes)\n",
    "print(\"\\nMissing Values:\")\n",
    "print(df.isnull().sum())\n",
    "print(\"\\nBasic Statistics:\")\n",
    "df.describe()"
   ]
  },
  {
   "cell_type": "markdown",
   "id": "365e3669",
   "metadata": {},
   "source": [
    "## 2. Target Variable Analysis"
   ]
  },
  {
   "cell_type": "code",
   "execution_count": null,
   "id": "be3f86a6",
   "metadata": {},
   "outputs": [],
   "source": [
    "# Distribution of delivery times\n",
    "fig, axes = plt.subplots(1, 3, figsize=(18, 5))\n",
    "\n",
    "# Histogram\n",
    "axes[0].hist(df['Delivery_Time_min'], bins=30, alpha=0.7, color='skyblue', edgecolor='black')\n",
    "axes[0].set_title('Distribution of Delivery Times')\n",
    "axes[0].set_xlabel('Delivery Time (minutes)')\n",
    "axes[0].set_ylabel('Frequency')\n",
    "\n",
    "# Box plot\n",
    "axes[1].boxplot(df['Delivery_Time_min'])\n",
    "axes[1].set_title('Box Plot of Delivery Times')\n",
    "axes[1].set_ylabel('Delivery Time (minutes)')\n",
    "\n",
    "# Q-Q plot\n",
    "from scipy import stats\n",
    "stats.probplot(df['Delivery_Time_min'], dist=\"norm\", plot=axes[2])\n",
    "axes[2].set_title('Q-Q Plot of Delivery Times')\n",
    "\n",
    "plt.tight_layout()\n",
    "plt.show()\n",
    "\n",
    "print(f\"Mean delivery time: {df['Delivery_Time_min'].mean():.2f} minutes\")\n",
    "print(f\"Median delivery time: {df['Delivery_Time_min'].median():.2f} minutes\")\n",
    "print(f\"Standard deviation: {df['Delivery_Time_min'].std():.2f} minutes\")\n",
    "print(f\"Min delivery time: {df['Delivery_Time_min'].min():.2f} minutes\")\n",
    "print(f\"Max delivery time: {df['Delivery_Time_min'].max():.2f} minutes\")"
   ]
  },
  {
   "cell_type": "markdown",
   "id": "d9569602",
   "metadata": {},
   "source": [
    "## 3. Feature Analysis"
   ]
  },
  {
   "cell_type": "code",
   "execution_count": null,
   "id": "558ef430",
   "metadata": {},
   "outputs": [],
   "source": [
    "# Categorical features analysis\n",
    "categorical_features = ['Weather', 'Traffic_Level', 'Time_of_Day', 'Vehicle_Type']\n",
    "\n",
    "fig, axes = plt.subplots(2, 2, figsize=(15, 12))\n",
    "axes = axes.ravel()\n",
    "\n",
    "for i, feature in enumerate(categorical_features):\n",
    "    if feature in df.columns:\n",
    "        # Value counts\n",
    "        counts = df[feature].value_counts()\n",
    "        axes[i].bar(counts.index, counts.values, alpha=0.7)\n",
    "        axes[i].set_title(f'Distribution of {feature}')\n",
    "        axes[i].set_xlabel(feature)\n",
    "        axes[i].set_ylabel('Count')\n",
    "        axes[i].tick_params(axis='x', rotation=45)\n",
    "\n",
    "plt.tight_layout()\n",
    "plt.show()"
   ]
  },
  {
   "cell_type": "code",
   "execution_count": null,
   "id": "4b620c83",
   "metadata": {},
   "outputs": [],
   "source": [
    "# Numerical features analysis\n",
    "numerical_features = ['Distance_km', 'Preparation_Time_min', 'Courier_Experience_yrs']\n",
    "\n",
    "fig, axes = plt.subplots(1, 3, figsize=(18, 5))\n",
    "\n",
    "for i, feature in enumerate(numerical_features):\n",
    "    if feature in df.columns:\n",
    "        axes[i].hist(df[feature], bins=20, alpha=0.7, color='lightcoral', edgecolor='black')\n",
    "        axes[i].set_title(f'Distribution of {feature}')\n",
    "        axes[i].set_xlabel(feature)\n",
    "        axes[i].set_ylabel('Frequency')\n",
    "\n",
    "plt.tight_layout()\n",
    "plt.show()"
   ]
  },
  {
   "cell_type": "markdown",
   "id": "eae7de6b",
   "metadata": {},
   "source": [
    "## 4. Correlation Analysis"
   ]
  },
  {
   "cell_type": "code",
   "execution_count": null,
   "id": "f1a4ef78",
   "metadata": {},
   "outputs": [],
   "source": [
    "# Correlation matrix for numerical features\n",
    "numerical_cols = df.select_dtypes(include=[np.number]).columns\n",
    "correlation_matrix = df[numerical_cols].corr()\n",
    "\n",
    "plt.figure(figsize=(10, 8))\n",
    "sns.heatmap(correlation_matrix, annot=True, cmap='coolwarm', center=0, \n",
    "            square=True, linewidths=0.5)\n",
    "plt.title('Correlation Matrix of Numerical Features')\n",
    "plt.tight_layout()\n",
    "plt.show()\n",
    "\n",
    "# Strongest correlations with delivery time\n",
    "delivery_corr = correlation_matrix['Delivery_Time_min'].sort_values(key=abs, ascending=False)\n",
    "print(\"Correlations with Delivery Time:\")\n",
    "print(delivery_corr)"
   ]
  },
  {
   "cell_type": "markdown",
   "id": "52e186ff",
   "metadata": {},
   "source": [
    "## 5. Feature Relationships with Target"
   ]
  },
  {
   "cell_type": "code",
   "execution_count": null,
   "id": "a9362c38",
   "metadata": {},
   "outputs": [],
   "source": [
    "# Weather vs Delivery Time\n",
    "if 'Weather' in df.columns:\n",
    "    plt.figure(figsize=(12, 6))\n",
    "    \n",
    "    plt.subplot(1, 2, 1)\n",
    "    sns.boxplot(data=df, x='Weather', y='Delivery_Time_min')\n",
    "    plt.title('Delivery Time by Weather Condition')\n",
    "    plt.xticks(rotation=45)\n",
    "    \n",
    "    plt.subplot(1, 2, 2)\n",
    "    weather_stats = df.groupby('Weather')['Delivery_Time_min'].agg(['mean', 'std', 'count'])\n",
    "    weather_stats['mean'].plot(kind='bar', alpha=0.7, color='lightblue')\n",
    "    plt.title('Average Delivery Time by Weather')\n",
    "    plt.ylabel('Average Delivery Time (min)')\n",
    "    plt.xticks(rotation=45)\n",
    "    \n",
    "    plt.tight_layout()\n",
    "    plt.show()\n",
    "    \n",
    "    print(\"Weather Impact on Delivery Time:\")\n",
    "    print(weather_stats)"
   ]
  },
  {
   "cell_type": "code",
   "execution_count": null,
   "id": "948283ce",
   "metadata": {},
   "outputs": [],
   "source": [
    "# Traffic Level vs Delivery Time\n",
    "if 'Traffic_Level' in df.columns:\n",
    "    plt.figure(figsize=(12, 6))\n",
    "    \n",
    "    plt.subplot(1, 2, 1)\n",
    "    sns.boxplot(data=df, x='Traffic_Level', y='Delivery_Time_min')\n",
    "    plt.title('Delivery Time by Traffic Level')\n",
    "    \n",
    "    plt.subplot(1, 2, 2)\n",
    "    traffic_stats = df.groupby('Traffic_Level')['Delivery_Time_min'].agg(['mean', 'std', 'count'])\n",
    "    traffic_stats['mean'].plot(kind='bar', alpha=0.7, color='orange')\n",
    "    plt.title('Average Delivery Time by Traffic Level')\n",
    "    plt.ylabel('Average Delivery Time (min)')\n",
    "    \n",
    "    plt.tight_layout()\n",
    "    plt.show()\n",
    "    \n",
    "    print(\"Traffic Impact on Delivery Time:\")\n",
    "    print(traffic_stats)"
   ]
  },
  {
   "cell_type": "code",
   "execution_count": null,
   "id": "f3eb1bfb",
   "metadata": {},
   "outputs": [],
   "source": [
    "# Distance vs Delivery Time scatter plot\n",
    "if 'Distance_km' in df.columns:\n",
    "    plt.figure(figsize=(12, 5))\n",
    "    \n",
    "    plt.subplot(1, 2, 1)\n",
    "    plt.scatter(df['Distance_km'], df['Delivery_Time_min'], alpha=0.6, color='green')\n",
    "    plt.xlabel('Distance (km)')\n",
    "    plt.ylabel('Delivery Time (min)')\n",
    "    plt.title('Distance vs Delivery Time')\n",
    "    \n",
    "    # Add trend line\n",
    "    z = np.polyfit(df['Distance_km'], df['Delivery_Time_min'], 1)\n",
    "    p = np.poly1d(z)\n",
    "    plt.plot(df['Distance_km'], p(df['Distance_km']), \"r--\", alpha=0.8)\n",
    "    \n",
    "    plt.subplot(1, 2, 2)\n",
    "    # Distance bins analysis\n",
    "    df['Distance_Bins'] = pd.cut(df['Distance_km'], bins=5, labels=['Very Short', 'Short', 'Medium', 'Long', 'Very Long'])\n",
    "    distance_stats = df.groupby('Distance_Bins')['Delivery_Time_min'].mean()\n",
    "    distance_stats.plot(kind='bar', alpha=0.7, color='purple')\n",
    "    plt.title('Average Delivery Time by Distance Range')\n",
    "    plt.ylabel('Average Delivery Time (min)')\n",
    "    plt.xticks(rotation=45)\n",
    "    \n",
    "    plt.tight_layout()\n",
    "    plt.show()"
   ]
  },
  {
   "cell_type": "markdown",
   "id": "f0efe2c7",
   "metadata": {},
   "source": [
    "## 6. Outlier Detection"
   ]
  },
  {
   "cell_type": "code",
   "execution_count": null,
   "id": "05a3670d",
   "metadata": {},
   "outputs": [],
   "source": [
    "# Outlier detection using IQR method\n",
    "def detect_outliers_iqr(df, column):\n",
    "    Q1 = df[column].quantile(0.25)\n",
    "    Q3 = df[column].quantile(0.75)\n",
    "    IQR = Q3 - Q1\n",
    "    lower_bound = Q1 - 1.5 * IQR\n",
    "    upper_bound = Q3 + 1.5 * IQR\n",
    "    \n",
    "    outliers = df[(df[column] < lower_bound) | (df[column] > upper_bound)]\n",
    "    return outliers, lower_bound, upper_bound\n",
    "\n",
    "# Check outliers in key numerical columns\n",
    "outlier_features = ['Delivery_Time_min', 'Distance_km', 'Preparation_Time_min']\n",
    "\n",
    "for feature in outlier_features:\n",
    "    if feature in df.columns:\n",
    "        outliers, lower, upper = detect_outliers_iqr(df, feature)\n",
    "        print(f\"\\n{feature} Outliers:\")\n",
    "        print(f\"Number of outliers: {len(outliers)} ({len(outliers)/len(df)*100:.2f}%)\")\n",
    "        print(f\"Bounds: [{lower:.2f}, {upper:.2f}]\")\n",
    "        \n",
    "        if len(outliers) > 0:\n",
    "            print(f\"Outlier range: {outliers[feature].min():.2f} - {outliers[feature].max():.2f}\")"
   ]
  },
  {
   "cell_type": "markdown",
   "id": "7457e487",
   "metadata": {},
   "source": [
    "## 7. Time and Vehicle Analysis"
   ]
  },
  {
   "cell_type": "code",
   "execution_count": null,
   "id": "d8a4af32",
   "metadata": {},
   "outputs": [],
   "source": [
    "# Time of day analysis\n",
    "if 'Time_of_Day' in df.columns:\n",
    "    time_analysis = df.groupby('Time_of_Day')['Delivery_Time_min'].agg(['mean', 'std', 'count'])\n",
    "    \n",
    "    plt.figure(figsize=(12, 5))\n",
    "    \n",
    "    plt.subplot(1, 2, 1)\n",
    "    time_analysis['mean'].plot(kind='bar', alpha=0.7, color='teal')\n",
    "    plt.title('Average Delivery Time by Time of Day')\n",
    "    plt.ylabel('Average Delivery Time (min)')\n",
    "    plt.xticks(rotation=45)\n",
    "    \n",
    "    plt.subplot(1, 2, 2)\n",
    "    sns.boxplot(data=df, x='Time_of_Day', y='Delivery_Time_min')\n",
    "    plt.title('Delivery Time Distribution by Time of Day')\n",
    "    plt.xticks(rotation=45)\n",
    "    \n",
    "    plt.tight_layout()\n",
    "    plt.show()\n",
    "    \n",
    "    print(\"Time of Day Analysis:\")\n",
    "    print(time_analysis)"
   ]
  },
  {
   "cell_type": "code",
   "execution_count": null,
   "id": "2388b9b7",
   "metadata": {},
   "outputs": [],
   "source": [
    "# Vehicle type analysis\n",
    "if 'Vehicle_Type' in df.columns:\n",
    "    vehicle_analysis = df.groupby('Vehicle_Type')['Delivery_Time_min'].agg(['mean', 'std', 'count'])\n",
    "    \n",
    "    plt.figure(figsize=(12, 5))\n",
    "    \n",
    "    plt.subplot(1, 2, 1)\n",
    "    vehicle_analysis['mean'].plot(kind='bar', alpha=0.7, color='coral')\n",
    "    plt.title('Average Delivery Time by Vehicle Type')\n",
    "    plt.ylabel('Average Delivery Time (min)')\n",
    "    \n",
    "    plt.subplot(1, 2, 2)\n",
    "    sns.boxplot(data=df, x='Vehicle_Type', y='Delivery_Time_min')\n",
    "    plt.title('Delivery Time Distribution by Vehicle Type')\n",
    "    \n",
    "    plt.tight_layout()\n",
    "    plt.show()\n",
    "    \n",
    "    print(\"Vehicle Type Analysis:\")\n",
    "    print(vehicle_analysis)"
   ]
  },
  {
   "cell_type": "markdown",
   "id": "53c87e35",
   "metadata": {},
   "source": [
    "## 8. Multi-dimensional Analysis"
   ]
  },
  {
   "cell_type": "code",
   "execution_count": null,
   "id": "c542ebb3",
   "metadata": {},
   "outputs": [],
   "source": [
    "# Weather + Traffic interaction\n",
    "if 'Weather' in df.columns and 'Traffic_Level' in df.columns:\n",
    "    plt.figure(figsize=(12, 8))\n",
    "    \n",
    "    # Pivot table for heatmap\n",
    "    weather_traffic = df.pivot_table(values='Delivery_Time_min', \n",
    "                                   index='Weather', \n",
    "                                   columns='Traffic_Level', \n",
    "                                   aggfunc='mean')\n",
    "    \n",
    "    sns.heatmap(weather_traffic, annot=True, cmap='YlOrRd', fmt='.1f')\n",
    "    plt.title('Average Delivery Time by Weather and Traffic Level')\n",
    "    plt.tight_layout()\n",
    "    plt.show()\n",
    "    \n",
    "    print(\"Weather + Traffic Interaction:\")\n",
    "    print(weather_traffic)"
   ]
  },
  {
   "cell_type": "markdown",
   "id": "f56bdeb2",
   "metadata": {},
   "source": [
    "## 9. Feature Engineering Insights"
   ]
  },
  {
   "cell_type": "code",
   "execution_count": null,
   "id": "df0bcca2",
   "metadata": {},
   "outputs": [],
   "source": [
    "# Create potential new features for analysis\n",
    "df_analysis = df.copy()\n",
    "\n",
    "# Speed calculation (if distance and time are available)\n",
    "if 'Distance_km' in df.columns:\n",
    "    df_analysis['Speed_kmh'] = (df_analysis['Distance_km'] / df_analysis['Delivery_Time_min']) * 60\n",
    "    \n",
    "    plt.figure(figsize=(10, 6))\n",
    "    plt.subplot(1, 2, 1)\n",
    "    plt.hist(df_analysis['Speed_kmh'], bins=30, alpha=0.7, color='gold', edgecolor='black')\n",
    "    plt.title('Distribution of Delivery Speed')\n",
    "    plt.xlabel('Speed (km/h)')\n",
    "    plt.ylabel('Frequency')\n",
    "    \n",
    "    plt.subplot(1, 2, 2)\n",
    "    if 'Vehicle_Type' in df.columns:\n",
    "        sns.boxplot(data=df_analysis, x='Vehicle_Type', y='Speed_kmh')\n",
    "        plt.title('Speed by Vehicle Type')\n",
    "    \n",
    "    plt.tight_layout()\n",
    "    plt.show()\n",
    "    \n",
    "    print(f\"Average delivery speed: {df_analysis['Speed_kmh'].mean():.2f} km/h\")\n",
    "    print(f\"Speed statistics:\")\n",
    "    print(df_analysis['Speed_kmh'].describe())"
   ]
  },
  {
   "cell_type": "code",
   "execution_count": null,
   "id": "49d82f8f",
   "metadata": {},
   "outputs": [],
   "source": [
    "# Experience impact analysis\n",
    "if 'Courier_Experience_yrs' in df.columns:\n",
    "    # Create experience categories\n",
    "    df_analysis['Experience_Category'] = pd.cut(df_analysis['Courier_Experience_yrs'], \n",
    "                                              bins=[0, 1, 3, 5, float('inf')], \n",
    "                                              labels=['Novice', 'Beginner', 'Experienced', 'Expert'])\n",
    "    \n",
    "    exp_analysis = df_analysis.groupby('Experience_Category')['Delivery_Time_min'].agg(['mean', 'std', 'count'])\n",
    "    \n",
    "    plt.figure(figsize=(10, 5))\n",
    "    \n",
    "    plt.subplot(1, 2, 1)\n",
    "    exp_analysis['mean'].plot(kind='bar', alpha=0.7, color='lightgreen')\n",
    "    plt.title('Average Delivery Time by Experience Level')\n",
    "    plt.ylabel('Average Delivery Time (min)')\n",
    "    plt.xticks(rotation=45)\n",
    "    \n",
    "    plt.subplot(1, 2, 2)\n",
    "    plt.scatter(df_analysis['Courier_Experience_yrs'], df_analysis['Delivery_Time_min'], alpha=0.6)\n",
    "    plt.xlabel('Courier Experience (years)')\n",
    "    plt.ylabel('Delivery Time (min)')\n",
    "    plt.title('Experience vs Delivery Time')\n",
    "    \n",
    "    plt.tight_layout()\n",
    "    plt.show()\n",
    "    \n",
    "    print(\"Experience Impact Analysis:\")\n",
    "    print(exp_analysis)"
   ]
  },
  {
   "cell_type": "markdown",
   "id": "8073d420",
   "metadata": {},
   "source": [
    "## 10. Key Findings Summary"
   ]
  },
  {
   "cell_type": "code",
   "execution_count": null,
   "id": "f43fd4c3",
   "metadata": {},
   "outputs": [],
   "source": [
    "print(\"=== KEY EDA FINDINGS ===\")\n",
    "print()\n",
    "\n",
    "# Statistical summary\n",
    "print(\"1. TARGET VARIABLE (Delivery Time):\")\n",
    "print(f\"   • Range: {df['Delivery_Time_min'].min():.1f} - {df['Delivery_Time_min'].max():.1f} minutes\")\n",
    "print(f\"   • Mean: {df['Delivery_Time_min'].mean():.1f} ± {df['Delivery_Time_min'].std():.1f} minutes\")\n",
    "print(f\"   • Distribution: {'Right-skewed' if df['Delivery_Time_min'].skew() > 0 else 'Left-skewed'}\")\n",
    "print()\n",
    "\n",
    "# Feature importance insights\n",
    "if 'Distance_km' in df.columns:\n",
    "    distance_corr = df['Distance_km'].corr(df['Delivery_Time_min'])\n",
    "    print(f\"2. DISTANCE IMPACT:\")\n",
    "    print(f\"   • Correlation with delivery time: {distance_corr:.3f}\")\n",
    "    print(f\"   • Average speed: {df_analysis['Speed_kmh'].mean():.1f} km/h\")\n",
    "print()\n",
    "\n",
    "# Categorical features insights\n",
    "if 'Weather' in df.columns:\n",
    "    weather_impact = df.groupby('Weather')['Delivery_Time_min'].mean()\n",
    "    worst_weather = weather_impact.idxmax()\n",
    "    best_weather = weather_impact.idxmin()\n",
    "    print(f\"3. WEATHER IMPACT:\")\n",
    "    print(f\"   • Worst conditions: {worst_weather} ({weather_impact[worst_weather]:.1f} min avg)\")\n",
    "    print(f\"   • Best conditions: {best_weather} ({weather_impact[best_weather]:.1f} min avg)\")\n",
    "print()\n",
    "\n",
    "if 'Traffic_Level' in df.columns:\n",
    "    traffic_impact = df.groupby('Traffic_Level')['Delivery_Time_min'].mean()\n",
    "    print(f\"4. TRAFFIC IMPACT:\")\n",
    "    for level in traffic_impact.index:\n",
    "        print(f\"   • {level}: {traffic_impact[level]:.1f} min average\")\n",
    "print()\n",
    "\n",
    "# Data quality\n",
    "missing_pct = (df.isnull().sum() / len(df) * 100)\n",
    "print(f\"5. DATA QUALITY:\")\n",
    "print(f\"   • Dataset size: {len(df):,} records\")\n",
    "if missing_pct.sum() > 0:\n",
    "    print(f\"   • Missing values: {missing_pct[missing_pct > 0].to_dict()}\")\n",
    "else:\n",
    "    print(f\"   • No missing values detected\")\n",
    "\n",
    "# Outliers summary\n",
    "outliers_delivery, _, _ = detect_outliers_iqr(df, 'Delivery_Time_min')\n",
    "outlier_pct = len(outliers_delivery) / len(df) * 100\n",
    "print(f\"   • Outliers in delivery time: {outlier_pct:.1f}%\")"
   ]
  }
 ],
 "metadata": {
  "language_info": {
   "name": "python"
  }
 },
 "nbformat": 4,
 "nbformat_minor": 5
}
